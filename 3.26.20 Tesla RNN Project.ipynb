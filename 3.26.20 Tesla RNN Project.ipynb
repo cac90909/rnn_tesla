{
 "cells": [
  {
   "cell_type": "code",
   "execution_count": 289,
   "metadata": {},
   "outputs": [],
   "source": [
   ]
  },
  {
   "cell_type": "code",
   "execution_count": 290,
   "metadata": {},
   "outputs": [],
   "source": [
    "#RNN can take into account state of the previous inputs, CNN cannot\n",
    "#LSTMs are type of RNN that give greater capability to long term learning"
   ]
  },
  {
   "cell_type": "code",
   "execution_count": 291,
   "metadata": {},
   "outputs": [],
   "source": [
    "import numpy as np\n",
    "import pandas as pd"
   ]
  },
  {
   "cell_type": "code",
   "execution_count": null,
   "metadata": {},
   "outputs": [],
   "source": [
    " "
   ]
  },
  {
   "cell_type": "code",
   "execution_count": 292,
   "metadata": {},
   "outputs": [],
   "source": [
    "data = pd.read_csv(r\"TSLA.csv\", date_parser = True)\n",
    "\n",
    "#Dividing set into train and test\n",
    "#80-20 split\n",
    "cutoff = int(data.shape[0] * .8)\n",
    "data_training = data[:cutoff]\n",
    "data_testing = data[cutoff+1:]"
   ]
  },
  {
   "cell_type": "code",
   "execution_count": 293,
   "metadata": {},
   "outputs": [
    {
     "data": {
      "text/html": [
       "<div>\n",
       "<style scoped>\n",
       "    .dataframe tbody tr th:only-of-type {\n",
       "        vertical-align: middle;\n",
       "    }\n",
       "\n",
       "    .dataframe tbody tr th {\n",
       "        vertical-align: top;\n",
       "    }\n",
       "\n",
       "    .dataframe thead th {\n",
       "        text-align: right;\n",
       "    }\n",
       "</style>\n",
       "<table border=\"1\" class=\"dataframe\">\n",
       "  <thead>\n",
       "    <tr style=\"text-align: right;\">\n",
       "      <th></th>\n",
       "      <th>Date</th>\n",
       "      <th>Open</th>\n",
       "      <th>High</th>\n",
       "      <th>Low</th>\n",
       "      <th>Close</th>\n",
       "      <th>Adj Close</th>\n",
       "      <th>Volume</th>\n",
       "    </tr>\n",
       "  </thead>\n",
       "  <tbody>\n",
       "    <tr>\n",
       "      <td>1962</td>\n",
       "      <td>2018-04-16</td>\n",
       "      <td>299.000000</td>\n",
       "      <td>299.660004</td>\n",
       "      <td>289.010010</td>\n",
       "      <td>291.209991</td>\n",
       "      <td>291.209991</td>\n",
       "      <td>6338500</td>\n",
       "    </tr>\n",
       "    <tr>\n",
       "      <td>1963</td>\n",
       "      <td>2018-04-17</td>\n",
       "      <td>288.869995</td>\n",
       "      <td>292.170013</td>\n",
       "      <td>282.510010</td>\n",
       "      <td>287.690002</td>\n",
       "      <td>287.690002</td>\n",
       "      <td>7000000</td>\n",
       "    </tr>\n",
       "    <tr>\n",
       "      <td>1964</td>\n",
       "      <td>2018-04-18</td>\n",
       "      <td>291.079987</td>\n",
       "      <td>300.239990</td>\n",
       "      <td>288.160004</td>\n",
       "      <td>293.350006</td>\n",
       "      <td>293.350006</td>\n",
       "      <td>6557700</td>\n",
       "    </tr>\n",
       "    <tr>\n",
       "      <td>1965</td>\n",
       "      <td>2018-04-19</td>\n",
       "      <td>291.079987</td>\n",
       "      <td>301.010010</td>\n",
       "      <td>288.549988</td>\n",
       "      <td>300.079987</td>\n",
       "      <td>300.079987</td>\n",
       "      <td>6090600</td>\n",
       "    </tr>\n",
       "    <tr>\n",
       "      <td>1966</td>\n",
       "      <td>2018-04-20</td>\n",
       "      <td>295.170013</td>\n",
       "      <td>299.980011</td>\n",
       "      <td>289.750000</td>\n",
       "      <td>290.239990</td>\n",
       "      <td>290.239990</td>\n",
       "      <td>5627900</td>\n",
       "    </tr>\n",
       "    <tr>\n",
       "      <td>...</td>\n",
       "      <td>...</td>\n",
       "      <td>...</td>\n",
       "      <td>...</td>\n",
       "      <td>...</td>\n",
       "      <td>...</td>\n",
       "      <td>...</td>\n",
       "      <td>...</td>\n",
       "    </tr>\n",
       "    <tr>\n",
       "      <td>2447</td>\n",
       "      <td>2020-03-19</td>\n",
       "      <td>374.700012</td>\n",
       "      <td>452.000000</td>\n",
       "      <td>358.459991</td>\n",
       "      <td>427.640015</td>\n",
       "      <td>427.640015</td>\n",
       "      <td>30195500</td>\n",
       "    </tr>\n",
       "    <tr>\n",
       "      <td>2448</td>\n",
       "      <td>2020-03-20</td>\n",
       "      <td>438.200012</td>\n",
       "      <td>477.000000</td>\n",
       "      <td>425.790009</td>\n",
       "      <td>427.529999</td>\n",
       "      <td>427.529999</td>\n",
       "      <td>28285500</td>\n",
       "    </tr>\n",
       "    <tr>\n",
       "      <td>2449</td>\n",
       "      <td>2020-03-23</td>\n",
       "      <td>433.600006</td>\n",
       "      <td>442.000000</td>\n",
       "      <td>410.500000</td>\n",
       "      <td>434.290009</td>\n",
       "      <td>434.290009</td>\n",
       "      <td>16454500</td>\n",
       "    </tr>\n",
       "    <tr>\n",
       "      <td>2450</td>\n",
       "      <td>2020-03-24</td>\n",
       "      <td>477.299988</td>\n",
       "      <td>513.690002</td>\n",
       "      <td>474.000000</td>\n",
       "      <td>505.000000</td>\n",
       "      <td>505.000000</td>\n",
       "      <td>22895200</td>\n",
       "    </tr>\n",
       "    <tr>\n",
       "      <td>2451</td>\n",
       "      <td>2020-03-25</td>\n",
       "      <td>545.250000</td>\n",
       "      <td>557.000000</td>\n",
       "      <td>511.109985</td>\n",
       "      <td>539.250000</td>\n",
       "      <td>539.250000</td>\n",
       "      <td>21165000</td>\n",
       "    </tr>\n",
       "  </tbody>\n",
       "</table>\n",
       "<p>490 rows × 7 columns</p>\n",
       "</div>"
      ],
      "text/plain": [
       "            Date        Open        High         Low       Close   Adj Close  \\\n",
       "1962  2018-04-16  299.000000  299.660004  289.010010  291.209991  291.209991   \n",
       "1963  2018-04-17  288.869995  292.170013  282.510010  287.690002  287.690002   \n",
       "1964  2018-04-18  291.079987  300.239990  288.160004  293.350006  293.350006   \n",
       "1965  2018-04-19  291.079987  301.010010  288.549988  300.079987  300.079987   \n",
       "1966  2018-04-20  295.170013  299.980011  289.750000  290.239990  290.239990   \n",
       "...          ...         ...         ...         ...         ...         ...   \n",
       "2447  2020-03-19  374.700012  452.000000  358.459991  427.640015  427.640015   \n",
       "2448  2020-03-20  438.200012  477.000000  425.790009  427.529999  427.529999   \n",
       "2449  2020-03-23  433.600006  442.000000  410.500000  434.290009  434.290009   \n",
       "2450  2020-03-24  477.299988  513.690002  474.000000  505.000000  505.000000   \n",
       "2451  2020-03-25  545.250000  557.000000  511.109985  539.250000  539.250000   \n",
       "\n",
       "        Volume  \n",
       "1962   6338500  \n",
       "1963   7000000  \n",
       "1964   6557700  \n",
       "1965   6090600  \n",
       "1966   5627900  \n",
       "...        ...  \n",
       "2447  30195500  \n",
       "2448  28285500  \n",
       "2449  16454500  \n",
       "2450  22895200  \n",
       "2451  21165000  \n",
       "\n",
       "[490 rows x 7 columns]"
      ]
     },
     "execution_count": 293,
     "metadata": {},
     "output_type": "execute_result"
    }
   ],
   "source": [
    "data_testing"
   ]
  },
  {
   "cell_type": "code",
   "execution_count": 294,
   "metadata": {},
   "outputs": [
    {
     "data": {
      "text/html": [
       "<div>\n",
       "<style scoped>\n",
       "    .dataframe tbody tr th:only-of-type {\n",
       "        vertical-align: middle;\n",
       "    }\n",
       "\n",
       "    .dataframe tbody tr th {\n",
       "        vertical-align: top;\n",
       "    }\n",
       "\n",
       "    .dataframe thead th {\n",
       "        text-align: right;\n",
       "    }\n",
       "</style>\n",
       "<table border=\"1\" class=\"dataframe\">\n",
       "  <thead>\n",
       "    <tr style=\"text-align: right;\">\n",
       "      <th></th>\n",
       "      <th>Open</th>\n",
       "      <th>Close</th>\n",
       "      <th>Volume</th>\n",
       "    </tr>\n",
       "  </thead>\n",
       "  <tbody>\n",
       "    <tr>\n",
       "      <td>0</td>\n",
       "      <td>19.000000</td>\n",
       "      <td>23.889999</td>\n",
       "      <td>18766300</td>\n",
       "    </tr>\n",
       "    <tr>\n",
       "      <td>1</td>\n",
       "      <td>25.790001</td>\n",
       "      <td>23.830000</td>\n",
       "      <td>17187100</td>\n",
       "    </tr>\n",
       "    <tr>\n",
       "      <td>2</td>\n",
       "      <td>25.000000</td>\n",
       "      <td>21.959999</td>\n",
       "      <td>8218800</td>\n",
       "    </tr>\n",
       "    <tr>\n",
       "      <td>3</td>\n",
       "      <td>23.000000</td>\n",
       "      <td>19.200001</td>\n",
       "      <td>5139800</td>\n",
       "    </tr>\n",
       "    <tr>\n",
       "      <td>4</td>\n",
       "      <td>20.000000</td>\n",
       "      <td>16.110001</td>\n",
       "      <td>6866900</td>\n",
       "    </tr>\n",
       "    <tr>\n",
       "      <td>...</td>\n",
       "      <td>...</td>\n",
       "      <td>...</td>\n",
       "      <td>...</td>\n",
       "    </tr>\n",
       "    <tr>\n",
       "      <td>1956</td>\n",
       "      <td>301.000000</td>\n",
       "      <td>299.299988</td>\n",
       "      <td>13520300</td>\n",
       "    </tr>\n",
       "    <tr>\n",
       "      <td>1957</td>\n",
       "      <td>300.369995</td>\n",
       "      <td>289.660004</td>\n",
       "      <td>10249800</td>\n",
       "    </tr>\n",
       "    <tr>\n",
       "      <td>1958</td>\n",
       "      <td>298.970001</td>\n",
       "      <td>304.700012</td>\n",
       "      <td>10989800</td>\n",
       "    </tr>\n",
       "    <tr>\n",
       "      <td>1959</td>\n",
       "      <td>300.739990</td>\n",
       "      <td>300.929993</td>\n",
       "      <td>7482900</td>\n",
       "    </tr>\n",
       "    <tr>\n",
       "      <td>1960</td>\n",
       "      <td>302.320007</td>\n",
       "      <td>294.079987</td>\n",
       "      <td>7608800</td>\n",
       "    </tr>\n",
       "  </tbody>\n",
       "</table>\n",
       "<p>1961 rows × 3 columns</p>\n",
       "</div>"
      ],
      "text/plain": [
       "            Open       Close    Volume\n",
       "0      19.000000   23.889999  18766300\n",
       "1      25.790001   23.830000  17187100\n",
       "2      25.000000   21.959999   8218800\n",
       "3      23.000000   19.200001   5139800\n",
       "4      20.000000   16.110001   6866900\n",
       "...          ...         ...       ...\n",
       "1956  301.000000  299.299988  13520300\n",
       "1957  300.369995  289.660004  10249800\n",
       "1958  298.970001  304.700012  10989800\n",
       "1959  300.739990  300.929993   7482900\n",
       "1960  302.320007  294.079987   7608800\n",
       "\n",
       "[1961 rows x 3 columns]"
      ]
     },
     "execution_count": 294,
     "metadata": {},
     "output_type": "execute_result"
    }
   ],
   "source": [
    "training_data = data_training.drop(['Date', 'Adj Close','High', 'Low'], axis = 1)\n",
    "training_data"
   ]
  },
  {
   "cell_type": "code",
   "execution_count": 295,
   "metadata": {},
   "outputs": [
    {
     "data": {
      "text/plain": [
       "array([[0.00771826, 0.02191224, 0.50337694],\n",
       "       [0.02604237, 0.02174973, 0.46074816],\n",
       "       [0.02391041, 0.01668472, 0.21865873],\n",
       "       ...,\n",
       "       [0.76327081, 0.78250274, 0.29345884],\n",
       "       [0.76804747, 0.77229142, 0.19879391],\n",
       "       [0.77231144, 0.75373778, 0.20219244]])"
      ]
     },
     "execution_count": 295,
     "metadata": {},
     "output_type": "execute_result"
    }
   ],
   "source": [
    "import sklearn\n",
    "\n",
    "scaler = sklearn.preprocessing.MinMaxScaler() #scale the data\n",
    "training_data = scaler.fit_transform(training_data) #purpose is to normalize the data (normal distribution)\n",
    "training_data #normalization is neccessary when we are working with multiple features that have different ranges because\n",
    "              #it essentially puts those features into common terms (range [0,1])"
   ]
  },
  {
   "cell_type": "code",
   "execution_count": 296,
   "metadata": {},
   "outputs": [],
   "source": [
    "X_train = []\n",
    "y_train = []"
   ]
  },
  {
   "cell_type": "code",
   "execution_count": 297,
   "metadata": {},
   "outputs": [],
   "source": [
    "#Creating the batches below\n",
    "for i in range(30, training_data.shape[0]):\n",
    "    X_train.append(training_data[i-30:i]) #A single sample will contain 30 days worth of data \n",
    "    y_train.append(training_data[i,0]) #Trying to predict the 31st day"
   ]
  },
  {
   "cell_type": "code",
   "execution_count": 298,
   "metadata": {},
   "outputs": [],
   "source": [
    "X_train, y_train = np.array(X_train), np.array(y_train) #Storing training samples in np array"
   ]
  },
  {
   "cell_type": "code",
   "execution_count": 299,
   "metadata": {},
   "outputs": [
    {
     "data": {
      "text/plain": [
       "(1931, 30, 3)"
      ]
     },
     "execution_count": 299,
     "metadata": {},
     "output_type": "execute_result"
    }
   ],
   "source": [
    "X_train.shape #3557 is number of batches, 60 is sequence length, 5 is number of features"
   ]
  },
  {
   "cell_type": "code",
   "execution_count": 300,
   "metadata": {},
   "outputs": [],
   "source": [
    "#Builing LSTM\n",
    "from tensorflow.keras import Sequential\n",
    "from tensorflow.keras.layers import Dense, LSTM, Dropout\n",
    "import tensorflow as tf"
   ]
  },
  {
   "cell_type": "code",
   "execution_count": 301,
   "metadata": {},
   "outputs": [],
   "source": [
    "model = Sequential()\n",
    "model.add(LSTM(units = 120, activation = \"relu\", return_sequences = True, input_shape = (X_train.shape[1], 3) )) \n",
    "#return sequences is true b/c we want each unit to pass on input to the next unit (cell)\n",
    "#this is our input shape because a single layer is going to be 60x3, and we will have 1931 of these in our training data\n",
    "model.add(Dropout(0.3))\n",
    "model.add(LSTM(units = 120, activation = \"relu\", return_sequences = True)) #only need to specify input shape for first layer \n",
    "model.add(Dropout(0.2))\n",
    "model.add(LSTM(units = 120, activation = \"relu\", return_sequences = True)) \n",
    "model.add(Dropout(0.3))\n",
    "model.add(LSTM(units = 120, activation = \"relu\")) #Don't need return sequences because this is the final layer \n",
    "model.add(Dropout(0.3))\n",
    "model.add(Dense(units = 1)) #Final output layer with only 1 output"
   ]
  },
  {
   "cell_type": "code",
   "execution_count": 302,
   "metadata": {},
   "outputs": [
    {
     "name": "stdout",
     "output_type": "stream",
     "text": [
      "Model: \"sequential_10\"\n",
      "_________________________________________________________________\n",
      "Layer (type)                 Output Shape              Param #   \n",
      "=================================================================\n",
      "lstm_40 (LSTM)               (None, 30, 120)           59520     \n",
      "_________________________________________________________________\n",
      "dropout_40 (Dropout)         (None, 30, 120)           0         \n",
      "_________________________________________________________________\n",
      "lstm_41 (LSTM)               (None, 30, 120)           115680    \n",
      "_________________________________________________________________\n",
      "dropout_41 (Dropout)         (None, 30, 120)           0         \n",
      "_________________________________________________________________\n",
      "lstm_42 (LSTM)               (None, 30, 120)           115680    \n",
      "_________________________________________________________________\n",
      "dropout_42 (Dropout)         (None, 30, 120)           0         \n",
      "_________________________________________________________________\n",
      "lstm_43 (LSTM)               (None, 120)               115680    \n",
      "_________________________________________________________________\n",
      "dropout_43 (Dropout)         (None, 120)               0         \n",
      "_________________________________________________________________\n",
      "dense_10 (Dense)             (None, 1)                 121       \n",
      "=================================================================\n",
      "Total params: 406,681\n",
      "Trainable params: 406,681\n",
      "Non-trainable params: 0\n",
      "_________________________________________________________________\n"
     ]
    }
   ],
   "source": [
    "model.summary()"
   ]
  },
  {
   "cell_type": "code",
   "execution_count": 303,
   "metadata": {},
   "outputs": [],
   "source": [
    "#Compiling the model\n",
    "model.compile(optimizer = \"adam\", loss=tf.keras.losses.MeanAbsolutePercentageError()) \n",
    "#optimizers change weights and learning rates of NN to reduce loss"
   ]
  },
  {
   "cell_type": "code",
   "execution_count": 317,
   "metadata": {},
   "outputs": [
    {
     "name": "stdout",
     "output_type": "stream",
     "text": [
      "Train on 1931 samples\n",
      "Epoch 1/5\n",
      "1931/1931 [==============================] - 7s 4ms/sample - loss: 13.2822\n",
      "Epoch 2/5\n",
      "1931/1931 [==============================] - 7s 3ms/sample - loss: 13.7075\n",
      "Epoch 3/5\n",
      "1931/1931 [==============================] - 7s 4ms/sample - loss: 12.9686\n",
      "Epoch 4/5\n",
      "1931/1931 [==============================] - 7s 4ms/sample - loss: 13.3942\n",
      "Epoch 5/5\n",
      "1931/1931 [==============================] - 7s 4ms/sample - loss: 12.5618\n"
     ]
    },
    {
     "data": {
      "text/plain": [
       "<tensorflow.python.keras.callbacks.History at 0x279426d8188>"
      ]
     },
     "execution_count": 317,
     "metadata": {},
     "output_type": "execute_result"
    }
   ],
   "source": [
    "model.fit(X_train, y_train, epochs = 5, batch_size = 64)"
   ]
  },
  {
   "cell_type": "code",
   "execution_count": 318,
   "metadata": {},
   "outputs": [],
   "source": [
    "#Testing this data against the google stock price (test data that we set aside)\n",
    "\n",
    "#In order to predict the very first day of the test set, we need the last 30 days of the training set\n",
    "last_30_days = data_training.tail(30)"
   ]
  },
  {
   "cell_type": "code",
   "execution_count": 319,
   "metadata": {},
   "outputs": [
    {
     "data": {
      "text/html": [
       "<div>\n",
       "<style scoped>\n",
       "    .dataframe tbody tr th:only-of-type {\n",
       "        vertical-align: middle;\n",
       "    }\n",
       "\n",
       "    .dataframe tbody tr th {\n",
       "        vertical-align: top;\n",
       "    }\n",
       "\n",
       "    .dataframe thead th {\n",
       "        text-align: right;\n",
       "    }\n",
       "</style>\n",
       "<table border=\"1\" class=\"dataframe\">\n",
       "  <thead>\n",
       "    <tr style=\"text-align: right;\">\n",
       "      <th></th>\n",
       "      <th>Open</th>\n",
       "      <th>Close</th>\n",
       "      <th>Volume</th>\n",
       "    </tr>\n",
       "  </thead>\n",
       "  <tbody>\n",
       "    <tr>\n",
       "      <td>0</td>\n",
       "      <td>345.010010</td>\n",
       "      <td>330.929993</td>\n",
       "      <td>6885600</td>\n",
       "    </tr>\n",
       "    <tr>\n",
       "      <td>1</td>\n",
       "      <td>326.980011</td>\n",
       "      <td>335.119995</td>\n",
       "      <td>5092800</td>\n",
       "    </tr>\n",
       "    <tr>\n",
       "      <td>2</td>\n",
       "      <td>332.390015</td>\n",
       "      <td>333.350006</td>\n",
       "      <td>3823800</td>\n",
       "    </tr>\n",
       "    <tr>\n",
       "      <td>3</td>\n",
       "      <td>333.750000</td>\n",
       "      <td>328.200012</td>\n",
       "      <td>4285700</td>\n",
       "    </tr>\n",
       "    <tr>\n",
       "      <td>4</td>\n",
       "      <td>325.440002</td>\n",
       "      <td>332.299988</td>\n",
       "      <td>5007300</td>\n",
       "    </tr>\n",
       "    <tr>\n",
       "      <td>...</td>\n",
       "      <td>...</td>\n",
       "      <td>...</td>\n",
       "      <td>...</td>\n",
       "    </tr>\n",
       "    <tr>\n",
       "      <td>515</td>\n",
       "      <td>374.700012</td>\n",
       "      <td>427.640015</td>\n",
       "      <td>30195500</td>\n",
       "    </tr>\n",
       "    <tr>\n",
       "      <td>516</td>\n",
       "      <td>438.200012</td>\n",
       "      <td>427.529999</td>\n",
       "      <td>28285500</td>\n",
       "    </tr>\n",
       "    <tr>\n",
       "      <td>517</td>\n",
       "      <td>433.600006</td>\n",
       "      <td>434.290009</td>\n",
       "      <td>16454500</td>\n",
       "    </tr>\n",
       "    <tr>\n",
       "      <td>518</td>\n",
       "      <td>477.299988</td>\n",
       "      <td>505.000000</td>\n",
       "      <td>22895200</td>\n",
       "    </tr>\n",
       "    <tr>\n",
       "      <td>519</td>\n",
       "      <td>545.250000</td>\n",
       "      <td>539.250000</td>\n",
       "      <td>21165000</td>\n",
       "    </tr>\n",
       "  </tbody>\n",
       "</table>\n",
       "<p>520 rows × 3 columns</p>\n",
       "</div>"
      ],
      "text/plain": [
       "           Open       Close    Volume\n",
       "0    345.010010  330.929993   6885600\n",
       "1    326.980011  335.119995   5092800\n",
       "2    332.390015  333.350006   3823800\n",
       "3    333.750000  328.200012   4285700\n",
       "4    325.440002  332.299988   5007300\n",
       "..          ...         ...       ...\n",
       "515  374.700012  427.640015  30195500\n",
       "516  438.200012  427.529999  28285500\n",
       "517  433.600006  434.290009  16454500\n",
       "518  477.299988  505.000000  22895200\n",
       "519  545.250000  539.250000  21165000\n",
       "\n",
       "[520 rows x 3 columns]"
      ]
     },
     "execution_count": 319,
     "metadata": {},
     "output_type": "execute_result"
    }
   ],
   "source": [
    "df = last_30_days.append(data_testing, ignore_index = True)\n",
    "df = df.drop(['Date', 'Adj Close', 'High', 'Low'], axis = 1)\n",
    "df"
   ]
  },
  {
   "cell_type": "code",
   "execution_count": 320,
   "metadata": {},
   "outputs": [
    {
     "data": {
      "text/plain": [
       "array([[0.88751858, 0.85354819, 0.18267045],\n",
       "       [0.83886118, 0.86489706, 0.13427578],\n",
       "       [0.85346111, 0.86010294, 0.10002052],\n",
       "       ...,\n",
       "       [1.12659561, 1.1335049 , 0.44097243],\n",
       "       [1.24452836, 1.32502709, 0.61483207],\n",
       "       [1.42790446, 1.41779523, 0.56812722]])"
      ]
     },
     "execution_count": 320,
     "metadata": {},
     "output_type": "execute_result"
    }
   ],
   "source": [
    "#scale the data\n",
    "inputs = scaler.transform(df)\n",
    "inputs"
   ]
  },
  {
   "cell_type": "code",
   "execution_count": 321,
   "metadata": {},
   "outputs": [],
   "source": [
    "X_test = []\n",
    "y_test = []\n",
    "\n",
    "for i in range(30, inputs.shape[0]):\n",
    "    X_test.append(inputs[i-30:i])\n",
    "    y_test.append(inputs[i, 0])"
   ]
  },
  {
   "cell_type": "code",
   "execution_count": 322,
   "metadata": {},
   "outputs": [
    {
     "data": {
      "text/plain": [
       "(490, 30, 3)"
      ]
     },
     "execution_count": 322,
     "metadata": {},
     "output_type": "execute_result"
    }
   ],
   "source": [
    "X_test, y_test = np.array(X_test), np.array(y_test)\n",
    "\n",
    "X_test.shape"
   ]
  },
  {
   "cell_type": "code",
   "execution_count": 323,
   "metadata": {},
   "outputs": [
    {
     "data": {
      "text/plain": [
       "(490,)"
      ]
     },
     "execution_count": 323,
     "metadata": {},
     "output_type": "execute_result"
    }
   ],
   "source": [
    "y_test.shape"
   ]
  },
  {
   "cell_type": "code",
   "execution_count": 324,
   "metadata": {},
   "outputs": [],
   "source": [
    "y_pred = model.predict(X_test)"
   ]
  },
  {
   "cell_type": "code",
   "execution_count": 325,
   "metadata": {},
   "outputs": [
    {
     "data": {
      "text/plain": [
       "array([2.69869111e-03, 2.70855905e-03, 2.69939048e-08])"
      ]
     },
     "execution_count": 325,
     "metadata": {},
     "output_type": "execute_result"
    }
   ],
   "source": [
    "#we want to scale these back into their normal values\n",
    "scaler.scale_"
   ]
  },
  {
   "cell_type": "code",
   "execution_count": 326,
   "metadata": {},
   "outputs": [],
   "source": [
    "scale = 1/scaler.scale_[0]\n",
    "y_pred = y_pred * scale\n",
    "y_test = y_test* scale"
   ]
  },
  {
   "cell_type": "code",
   "execution_count": 328,
   "metadata": {},
   "outputs": [
    {
     "data": {
      "image/png": "[encoded data removed]",
      "text/plain": [
       "<Figure size 720x360 with 1 Axes>"
      ]
     },
     "metadata": {
      "needs_background": "light"
     },
     "output_type": "display_data"
    }
   ],
   "source": [
    "import matplotlib.pyplot as plt\n",
    "\n",
    "#Visualize the results\n",
    "plt.figure(figsize = (10,5))\n",
    "plt.plot(y_test, color = 'blue', label = 'Tesla Stock')\n",
    "plt.plot(y_pred, color = 'black', label = 'Estimated Tesla Stock')\n",
    "plt.title('Tesla Stock Prediction Accuracy')\n",
    "plt.xlabel('Day')\n",
    "plt.ylabel('Stock Price')\n",
    "plt.legend()\n",
    "plt.show()"
   ]
  }
 ],
 "metadata": {
  "kernelspec": {
   "display_name": "Python 3",
   "language": "python",
   "name": "python3"
  },
  "language_info": {
   "codemirror_mode": {
    "name": "ipython",
    "version": 3
   },
   "file_extension": ".py",
   "mimetype": "text/x-python",
   "name": "python",
   "nbconvert_exporter": "python",
   "pygments_lexer": "ipython3",
   "version": "3.7.4"
  }
 },
 "nbformat": 4,
 "nbformat_minor": 2
}
